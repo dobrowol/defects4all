{
 "cells": [
  {
   "cell_type": "code",
   "execution_count": 1,
   "id": "e88d8e55",
   "metadata": {},
   "outputs": [],
   "source": [
    "import pandas as pd"
   ]
  },
  {
   "cell_type": "code",
   "execution_count": 2,
   "id": "7f529c61",
   "metadata": {},
   "outputs": [],
   "source": [
    "df = pd.read_csv(\"hdfs311/ut_log_as_sentence.vec\", sep='\\t', header=None, names=[\"test_suite\", 'klogs_words'])"
   ]
  },
  {
   "cell_type": "code",
   "execution_count": null,
   "id": "364f0277",
   "metadata": {},
   "outputs": [],
   "source": []
  },
  {
   "cell_type": "code",
   "execution_count": 3,
   "id": "6866c32f",
   "metadata": {},
   "outputs": [],
   "source": [
    "df['count']=df.groupby(\"test_suite\")['klogs_words'].count()\n"
   ]
  },
  {
   "cell_type": "code",
   "execution_count": 4,
   "id": "41ef7ec9",
   "metadata": {},
   "outputs": [
    {
     "data": {
      "text/html": [
       "<div>\n",
       "<style scoped>\n",
       "    .dataframe tbody tr th:only-of-type {\n",
       "        vertical-align: middle;\n",
       "    }\n",
       "\n",
       "    .dataframe tbody tr th {\n",
       "        vertical-align: top;\n",
       "    }\n",
       "\n",
       "    .dataframe thead th {\n",
       "        text-align: right;\n",
       "    }\n",
       "</style>\n",
       "<table border=\"1\" class=\"dataframe\">\n",
       "  <thead>\n",
       "    <tr style=\"text-align: right;\">\n",
       "      <th></th>\n",
       "      <th>test_suite</th>\n",
       "      <th>count</th>\n",
       "    </tr>\n",
       "  </thead>\n",
       "  <tbody>\n",
       "    <tr>\n",
       "      <th>41</th>\n",
       "      <td>__label__org.apache.hadoop.fs.viewfs.TestViewF...</td>\n",
       "      <td>78</td>\n",
       "    </tr>\n",
       "    <tr>\n",
       "      <th>43</th>\n",
       "      <td>__label__org.apache.hadoop.fs.viewfs.TestViewF...</td>\n",
       "      <td>76</td>\n",
       "    </tr>\n",
       "    <tr>\n",
       "      <th>42</th>\n",
       "      <td>__label__org.apache.hadoop.fs.viewfs.TestViewF...</td>\n",
       "      <td>75</td>\n",
       "    </tr>\n",
       "    <tr>\n",
       "      <th>21</th>\n",
       "      <td>__label__org.apache.hadoop.fs.TestSymlinkHdfsF...</td>\n",
       "      <td>74</td>\n",
       "    </tr>\n",
       "    <tr>\n",
       "      <th>40</th>\n",
       "      <td>__label__org.apache.hadoop.fs.viewfs.TestViewF...</td>\n",
       "      <td>72</td>\n",
       "    </tr>\n",
       "    <tr>\n",
       "      <th>...</th>\n",
       "      <td>...</td>\n",
       "      <td>...</td>\n",
       "    </tr>\n",
       "    <tr>\n",
       "      <th>208</th>\n",
       "      <td>__label__org.apache.hadoop.hdfs.TestWriteBlock...</td>\n",
       "      <td>1</td>\n",
       "    </tr>\n",
       "    <tr>\n",
       "      <th>478</th>\n",
       "      <td>__label__org.apache.hadoop.hdfs.server.namenod...</td>\n",
       "      <td>1</td>\n",
       "    </tr>\n",
       "    <tr>\n",
       "      <th>479</th>\n",
       "      <td>__label__org.apache.hadoop.hdfs.server.namenod...</td>\n",
       "      <td>1</td>\n",
       "    </tr>\n",
       "    <tr>\n",
       "      <th>201</th>\n",
       "      <td>__label__org.apache.hadoop.hdfs.TestSetrepDecr...</td>\n",
       "      <td>1</td>\n",
       "    </tr>\n",
       "    <tr>\n",
       "      <th>617</th>\n",
       "      <td>__label__org.apache.hadoop.tracing.TestTracing...</td>\n",
       "      <td>1</td>\n",
       "    </tr>\n",
       "  </tbody>\n",
       "</table>\n",
       "<p>614 rows × 2 columns</p>\n",
       "</div>"
      ],
      "text/plain": [
       "                                            test_suite  count\n",
       "41   __label__org.apache.hadoop.fs.viewfs.TestViewF...     78\n",
       "43   __label__org.apache.hadoop.fs.viewfs.TestViewF...     76\n",
       "42   __label__org.apache.hadoop.fs.viewfs.TestViewF...     75\n",
       "21   __label__org.apache.hadoop.fs.TestSymlinkHdfsF...     74\n",
       "40   __label__org.apache.hadoop.fs.viewfs.TestViewF...     72\n",
       "..                                                 ...    ...\n",
       "208  __label__org.apache.hadoop.hdfs.TestWriteBlock...      1\n",
       "478  __label__org.apache.hadoop.hdfs.server.namenod...      1\n",
       "479  __label__org.apache.hadoop.hdfs.server.namenod...      1\n",
       "201  __label__org.apache.hadoop.hdfs.TestSetrepDecr...      1\n",
       "617  __label__org.apache.hadoop.tracing.TestTracing...      1\n",
       "\n",
       "[614 rows x 2 columns]"
      ]
     },
     "execution_count": 4,
     "metadata": {},
     "output_type": "execute_result"
    }
   ],
   "source": [
    "\n",
    "\n",
    "res=df.groupby(['test_suite'])['klogs_words'] \\\n",
    "                             .count() \\\n",
    "                             .reset_index(name='count') \\\n",
    "                             .sort_values(['count'], ascending=False)\n",
    "res = res[(res['count']!=0)]\n",
    "res"
   ]
  },
  {
   "cell_type": "code",
   "execution_count": 5,
   "id": "8d028cb8",
   "metadata": {},
   "outputs": [
    {
     "data": {
      "text/plain": [
       "pandas.core.frame.DataFrame"
      ]
     },
     "execution_count": 5,
     "metadata": {},
     "output_type": "execute_result"
    }
   ],
   "source": [
    "type(res)"
   ]
  },
  {
   "cell_type": "raw",
   "id": "488c955f",
   "metadata": {},
   "source": [
    "res"
   ]
  },
  {
   "cell_type": "code",
   "execution_count": 6,
   "id": "9818451d",
   "metadata": {},
   "outputs": [
    {
     "data": {
      "text/plain": [
       "Text(0, 0.5, 'number of testssuites')"
      ]
     },
     "execution_count": 6,
     "metadata": {},
     "output_type": "execute_result"
    },
    {
     "data": {
      "image/png": "[encoded data removed]",
      "text/plain": [
       "<Figure size 432x288 with 1 Axes>"
      ]
     },
     "metadata": {
      "needs_background": "light"
     },
     "output_type": "display_data"
    }
   ],
   "source": [
    "plt = res['count'].plot(kind='hist', bins=100)\n",
    "plt.set_xlabel(\"number of examples\")\n",
    "plt.set_ylabel(\"number of testssuites\")"
   ]
  },
  {
   "cell_type": "code",
   "execution_count": 7,
   "id": "6bf492f2",
   "metadata": {},
   "outputs": [
    {
     "name": "stdout",
     "output_type": "stream",
     "text": [
      "<class 'pandas.core.frame.DataFrame'>\n"
     ]
    },
    {
     "data": {
      "text/plain": [
       "Text(0, 0.5, 'number of testssuites')"
      ]
     },
     "execution_count": 7,
     "metadata": {},
     "output_type": "execute_result"
    },
    {
     "data": {
      "image/png": "[encoded data removed]",
      "text/plain": [
       "<Figure size 432x288 with 1 Axes>"
      ]
     },
     "metadata": {
      "needs_background": "light"
     },
     "output_type": "display_data"
    }
   ],
   "source": [
    "pd.set_option('display.max_rows', None)\n",
    "print(type(df))\n",
    "df2=pd.merge(df, res, on=\"test_suite\", how=\"inner\")\n",
    "df2['len']=df2['klogs_words'].str.len().sort_values()\n",
    "\n",
    "df3 = df2[df2['len'].notnull()]\n",
    "plt=df3['len'].sort_values().plot(kind='hist',bins=10000)\n",
    "plt.set_xlim(0,10000) \n",
    "plt.set_xlabel(\"length of examples\")\n",
    "plt.set_ylabel(\"number of testssuites\")\n",
    "#print(df['len'])\n",
    "#\n",
    "#plt = df3['len'].plot(kind='hist', bins=100)\n",
    "#plt.set_xlabel(\"length of examples\")\n",
    "#plt.set_ylabel(\"number of testssuites\")\n",
    "#\n",
    "#print(len(df3))"
   ]
  },
  {
   "cell_type": "code",
   "execution_count": 8,
   "id": "9cd3d14f",
   "metadata": {},
   "outputs": [],
   "source": [
    "header=['test_suite', \"klogs_words\"]\n",
    "df3.to_csv('output.csv', sep='\\t', columns = header, index=False)"
   ]
  },
  {
   "cell_type": "code",
   "execution_count": null,
   "id": "d8521cf2",
   "metadata": {},
   "outputs": [],
   "source": []
  }
 ],
 "metadata": {
  "kernelspec": {
   "display_name": "Python 3 (ipykernel)",
   "language": "python",
   "name": "python3"
  },
  "language_info": {
   "codemirror_mode": {
    "name": "ipython",
    "version": 3
   },
   "file_extension": ".py",
   "mimetype": "text/x-python",
   "name": "python",
   "nbconvert_exporter": "python",
   "pygments_lexer": "ipython3",
   "version": "3.8.5"
  }
 },
 "nbformat": 4,
 "nbformat_minor": 5
}
